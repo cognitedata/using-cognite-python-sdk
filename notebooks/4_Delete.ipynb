{
 "cells": [
  {
   "cell_type": "markdown",
   "metadata": {},
   "source": [
    "# Copyright 2022 Cognite AS\n",
    "\n",
    "## Import the Libraries and Modules"
   ]
  },
  {
   "cell_type": "code",
   "execution_count": null,
   "metadata": {},
   "outputs": [],
   "source": [
    "import sys\n",
    "from pathlib import Path\n",
    "\n",
    "utils = str(Path(\"../utils\").resolve())\n",
    "if utils not in sys.path:\n",
    "    sys.path.append(utils)\n",
    "\n",
    "from cognite_auth import interactive_client"
   ]
  },
  {
   "cell_type": "markdown",
   "metadata": {},
   "source": [
    "## Create the Cognite Client"
   ]
  },
  {
   "cell_type": "code",
   "execution_count": null,
   "metadata": {},
   "outputs": [],
   "source": [
    "c = client = interactive_client()"
   ]
  },
  {
   "cell_type": "markdown",
   "metadata": {
    "id": "to6T4ull7hHW"
   },
   "source": [
    "## Delete the data in CDF"
   ]
  },
  {
   "cell_type": "markdown",
   "metadata": {
    "id": "0gyLyxaeJYnP"
   },
   "source": [
    "### Delete using ids"
   ]
  },
  {
   "cell_type": "code",
   "execution_count": null,
   "metadata": {},
   "outputs": [],
   "source": [
    "c.sequences.data.retrieve_dataframe(id=2357839693666680,start=0,end=None)"
   ]
  },
  {
   "cell_type": "code",
   "execution_count": null,
   "metadata": {
    "id": "lAH4oq3PJyvB"
   },
   "outputs": [],
   "source": [
    "c.sequences.data.delete(id=2357839693666680, rows=[1])"
   ]
  },
  {
   "cell_type": "code",
   "execution_count": null,
   "metadata": {},
   "outputs": [],
   "source": [
    "c.sequences.data.retrieve_dataframe(id=2357839693666680,start=0,end=None)"
   ]
  },
  {
   "cell_type": "markdown",
   "metadata": {
    "id": "9lSf4XnUJfMB"
   },
   "source": [
    "### Delete using a Range"
   ]
  },
  {
   "cell_type": "code",
   "execution_count": null,
   "metadata": {},
   "outputs": [],
   "source": [
    "c.time_series.list(external_id_prefix=\"my_\")"
   ]
  },
  {
   "cell_type": "code",
   "execution_count": null,
   "metadata": {
    "id": "KpjV-Y8mJh6P"
   },
   "outputs": [],
   "source": [
    "c.datapoints.delete_range(start=150000000000, end=160000000000, id=5258405260776053)"
   ]
  },
  {
   "cell_type": "code",
   "execution_count": null,
   "metadata": {
    "id": "V0rdsjCxJ0RS"
   },
   "outputs": [],
   "source": [
    "c.sequences.data.delete_range(id=2357839693666680, start=0, end=None)"
   ]
  },
  {
   "cell_type": "code",
   "execution_count": null,
   "metadata": {},
   "outputs": [],
   "source": [
    "c.sequences.data.retrieve_dataframe(id=2357839693666680,start=0,end=None)"
   ]
  },
  {
   "cell_type": "markdown",
   "metadata": {
    "id": "rj_3xVjJJiko"
   },
   "source": [
    "### Delete multiple ranges"
   ]
  },
  {
   "cell_type": "code",
   "execution_count": null,
   "metadata": {
    "id": "XuEh5yroJnvl"
   },
   "outputs": [],
   "source": [
    "ranges = [{\"id\": 1, \"start\": \"2d-ago\", \"end\": \"now\"},\n",
    "            {\"externalId\": \"abc\", \"start\": \"2d-ago\", \"end\": \"now\"}]\n",
    "c.datapoints.delete_ranges(ranges)"
   ]
  },
  {
   "cell_type": "markdown",
   "metadata": {
    "id": "GsdtFcFSJVHk"
   },
   "source": [
    "### Delete various resource types"
   ]
  },
  {
   "cell_type": "code",
   "execution_count": null,
   "metadata": {},
   "outputs": [],
   "source": [
    "c.labels.list()"
   ]
  },
  {
   "cell_type": "code",
   "execution_count": null,
   "metadata": {
    "id": "tQldwsHGKMYn"
   },
   "outputs": [],
   "source": [
    "c.labels.delete(external_id=[\"ROTATING_EQUIPMENT\", \"PUMP\"])"
   ]
  },
  {
   "cell_type": "code",
   "execution_count": null,
   "metadata": {},
   "outputs": [],
   "source": [
    "c.assets.delete(id=[2337497105272481,3850461732700104])"
   ]
  },
  {
   "cell_type": "code",
   "execution_count": null,
   "metadata": {
    "id": "j62xAi52KMWx"
   },
   "outputs": [],
   "source": [
    "c.assets.delete(id=[1,2,3], external_id=\"3\")"
   ]
  },
  {
   "cell_type": "code",
   "execution_count": null,
   "metadata": {
    "id": "5JWuCkv9KMS1"
   },
   "outputs": [],
   "source": [
    "c.time_series.delete(id=[1,2,3], external_id=\"3\")"
   ]
  },
  {
   "cell_type": "code",
   "execution_count": null,
   "metadata": {
    "id": "34hBDh67KMP7"
   },
   "outputs": [],
   "source": [
    "c.sequences.delete(id=[1,2,3], external_id=\"3\")"
   ]
  },
  {
   "cell_type": "code",
   "execution_count": null,
   "metadata": {
    "id": "_dBuJDAzKMHa"
   },
   "outputs": [],
   "source": [
    "c.events.delete(id=[1,2,3], external_id=\"3\")"
   ]
  },
  {
   "cell_type": "code",
   "execution_count": null,
   "metadata": {
    "id": "inKqS_F0KayP"
   },
   "outputs": [],
   "source": [
    "c.files.delete(id=[1,2,3], external_id=\"3\")"
   ]
  },
  {
   "cell_type": "code",
   "execution_count": null,
   "metadata": {
    "id": "QGdy9dXJKepc"
   },
   "outputs": [],
   "source": [
    "c.relationships.delete(external_id=[\"a\",\"b\"])"
   ]
  },
  {
   "cell_type": "markdown",
   "metadata": {},
   "source": [
    "## Bulk Deletion"
   ]
  },
  {
   "cell_type": "markdown",
   "metadata": {
    "id": "a3ZTLTwMStVe"
   },
   "source": [
    "How to delete recursively and effectively."
   ]
  },
  {
   "cell_type": "code",
   "execution_count": null,
   "metadata": {},
   "outputs": [],
   "source": [
    "c.assets.retrieve_subtree(external_id=\"root\")"
   ]
  },
  {
   "cell_type": "code",
   "execution_count": null,
   "metadata": {},
   "outputs": [],
   "source": [
    "# Delete root and all subtree assets:\n",
    "c.assets.delete(external_id='root', recursive=True)"
   ]
  },
  {
   "cell_type": "code",
   "execution_count": null,
   "metadata": {},
   "outputs": [],
   "source": [
    "c.assets.list(data_set_external_ids=['root'])"
   ]
  }
 ],
 "metadata": {
  "kernelspec": {
   "display_name": "Python 3 (ipykernel)",
   "language": "python",
   "name": "python3"
  },
  "language_info": {
   "codemirror_mode": {
    "name": "ipython",
    "version": 3
   },
   "file_extension": ".py",
   "mimetype": "text/x-python",
   "name": "python",
   "nbconvert_exporter": "python",
   "pygments_lexer": "ipython3",
<<<<<<< Updated upstream
   "version": "3.8.13"
=======
   "version": "3.9.16"
>>>>>>> Stashed changes
  },
  "vscode": {
   "interpreter": {
    "hash": "a91ca9ec7d99e670fac56e3349d369f0cfcf0e1d088f5d3a781425823b7f65f5"
   }
  }
 },
 "nbformat": 4,
 "nbformat_minor": 2
}
