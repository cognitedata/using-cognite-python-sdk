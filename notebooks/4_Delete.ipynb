{
 "cells": [
  {
   "cell_type": "markdown",
   "metadata": {},
   "source": [
    "# Copyright 2022 Cognite AS\n",
    "\n",
    "## Import the Libraries and Modules"
   ]
  },
  {
   "cell_type": "code",
   "execution_count": null,
   "metadata": {},
   "outputs": [],
   "source": [
    "import sys\n",
    "from pathlib import Path\n",
    "\n",
    "utils = str(Path(\"../utils\").resolve())\n",
    "if utils not in sys.path:\n",
    "    sys.path.append(utils)\n",
    "\n",
    "from cognite_auth import interactive_client"
   ]
  },
  {
   "cell_type": "markdown",
   "metadata": {},
   "source": [
    "## Create the Cognite Client"
   ]
  },
  {
   "cell_type": "code",
   "execution_count": null,
   "metadata": {},
   "outputs": [],
   "source": [
    "c = client = interactive_client()"
   ]
  },
  {
   "cell_type": "markdown",
   "metadata": {
    "id": "to6T4ull7hHW"
   },
   "source": [
    "## Delete the data in CDF"
   ]
  },
  {
   "cell_type": "markdown",
   "metadata": {
    "id": "0gyLyxaeJYnP"
   },
   "source": [
    "### Delete using ids"
   ]
  },
  {
   "cell_type": "code",
   "execution_count": null,
   "metadata": {},
   "outputs": [],
   "source": [
    "#Please use the same prefix as in the 3_Create_Update_insert notebook. If it is already defined, it's all good! If not, remove \"#\" from the line below and use the same prefix as when you created the data\n",
    "\n",
    "#prefix=\"my_name\""
   ]
  },
  {
   "cell_type": "code",
   "execution_count": null,
   "metadata": {},
   "outputs": [],
   "source": [
    "c.sequences.data.retrieve_dataframe(external_id=prefix+\"_test_sequence\",start=0,end=None)"
   ]
  },
  {
   "attachments": {},
   "cell_type": "markdown",
   "metadata": {},
   "source": [
    "Deleting a row from the sequence table"
   ]
  },
  {
   "cell_type": "code",
   "execution_count": null,
   "metadata": {
    "id": "lAH4oq3PJyvB"
   },
   "outputs": [],
   "source": [
    "c.sequences.data.delete(external_id=prefix+\"_test_sequence\", rows=[1])"
   ]
  },
  {
   "attachments": {},
   "cell_type": "markdown",
   "metadata": {},
   "source": [
    "Looking at the result after the delete"
   ]
  },
  {
   "cell_type": "code",
   "execution_count": null,
   "metadata": {},
   "outputs": [],
   "source": [
    "c.sequences.data.retrieve_dataframe(external_id=prefix+\"_test_sequence\",start=0,end=None)"
   ]
  },
  {
   "cell_type": "markdown",
   "metadata": {
    "id": "9lSf4XnUJfMB"
   },
   "source": [
    "### Delete using a Range"
   ]
  },
  {
   "cell_type": "code",
   "execution_count": null,
   "metadata": {},
   "outputs": [],
   "source": [
    "from datetime import datetime\n",
    "\n",
    "c.time_series.data.retrieve(start=(datetime(2020,1,1)), end=(datetime(2021,1,1)), external_id=\"timeseries_\"+prefix)"
   ]
  },
  {
   "attachments": {},
   "cell_type": "markdown",
   "metadata": {},
   "source": [
    "Deleting data in a specific timerange"
   ]
  },
  {
   "cell_type": "code",
   "execution_count": null,
   "metadata": {
    "id": "KpjV-Y8mJh6P"
   },
   "outputs": [],
   "source": [
    "from datetime import datetime\n",
    "\n",
    "c.time_series.data.delete_range(start=(datetime(2020,1,1)), end=(datetime(2020,2,1)), external_id=\"timeseries_\"+prefix)"
   ]
  },
  {
   "attachments": {},
   "cell_type": "markdown",
   "metadata": {},
   "source": [
    "Looking at the data we have left after the deletion "
   ]
  },
  {
   "cell_type": "code",
   "execution_count": null,
   "metadata": {},
   "outputs": [],
   "source": [
    "from datetime import datetime\n",
    "\n",
    "c.time_series.data.retrieve(start=(datetime(2020,1,1)), end=(datetime(2021,1,1)), external_id=\"timeseries_\"+prefix)"
   ]
  },
  {
   "cell_type": "markdown",
   "metadata": {
    "id": "GsdtFcFSJVHk"
   },
   "source": [
    "### Delete various resource types"
   ]
  },
  {
   "cell_type": "code",
   "execution_count": null,
   "metadata": {
    "id": "tQldwsHGKMYn"
   },
   "outputs": [],
   "source": [
    "c.labels.delete(external_id=[\"ROTATING_EQUIPMENT_\"+prefix, \"PUMP_\"+prefix])"
   ]
  },
  {
   "cell_type": "code",
   "execution_count": null,
   "metadata": {
    "id": "j62xAi52KMWx"
   },
   "outputs": [],
   "source": [
    "c.assets.delete(external_id=\"asset1_\"+prefix)"
   ]
  },
  {
   "cell_type": "code",
   "execution_count": null,
   "metadata": {
    "id": "5JWuCkv9KMS1"
   },
   "outputs": [],
   "source": [
    "c.time_series.delete(external_id=\"timeseries_\"+prefix)"
   ]
  },
  {
   "cell_type": "markdown",
   "metadata": {},
   "source": [
    "## Bulk Deletion"
   ]
  },
  {
   "cell_type": "markdown",
   "metadata": {
    "id": "a3ZTLTwMStVe"
   },
   "source": [
    "How to delete recursively and effectively."
   ]
  },
  {
   "cell_type": "code",
   "execution_count": null,
   "metadata": {},
   "outputs": [],
   "source": [
    "c.assets.retrieve_subtree(external_id=prefix+\"_root\")"
   ]
  },
  {
   "attachments": {},
   "cell_type": "markdown",
   "metadata": {},
   "source": [
    "Deleting the root asset and all the assets under the specific root asset."
   ]
  },
  {
   "cell_type": "code",
   "execution_count": null,
   "metadata": {},
   "outputs": [],
   "source": [
    "# Delete root and all subtree assets:\n",
    "c.assets.delete(external_id=prefix+\"_root\", recursive=True)"
   ]
  },
  {
   "attachments": {},
   "cell_type": "markdown",
   "metadata": {},
   "source": [
    "We can now look at the assets in our data set and see that it is empty"
   ]
  },
  {
   "cell_type": "code",
   "execution_count": null,
   "metadata": {},
   "outputs": [],
   "source": [
    "c.assets.list(data_set_external_ids=[prefix])"
   ]
  },
  {
   "cell_type": "code",
   "execution_count": null,
   "metadata": {},
   "outputs": [],
   "source": []
  }
 ],
 "metadata": {
  "kernelspec": {
   "display_name": "Python 3",
   "language": "python",
   "name": "python3"
  },
  "language_info": {
   "codemirror_mode": {
    "name": "ipython",
    "version": 3
   },
   "file_extension": ".py",
   "mimetype": "text/x-python",
   "name": "python",
   "nbconvert_exporter": "python",
   "pygments_lexer": "ipython3",
   "version": "3.9.16 (main, Feb  1 2023, 12:36:23) \n[Clang 14.0.0 (clang-1400.0.29.202)]"
  },
  "vscode": {
   "interpreter": {
    "hash": "44632770a8e081848b27e822703d69684fcad84b9999757e821a0f496acab079"
   }
  }
 },
 "nbformat": 4,
 "nbformat_minor": 2
}
