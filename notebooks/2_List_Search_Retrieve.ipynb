{
 "cells": [
  {
   "cell_type": "markdown",
   "metadata": {},
   "source": [
    "# Copyright 2022 Cognite AS\n",
    "\n",
    "## Import the Libraries and Modules"
   ]
  },
  {
   "cell_type": "code",
   "execution_count": null,
   "metadata": {},
   "outputs": [],
   "source": [
    "import sys\n",
    "from pathlib import Path\n",
    "\n",
    "utils = str(Path(\"../utils\").resolve())\n",
    "if utils not in sys.path:\n",
    "    sys.path.append(utils)\n",
    "\n",
    "from cognite_auth import interactive_client"
   ]
  },
  {
   "cell_type": "markdown",
   "metadata": {},
   "source": [
    "## Create the Cognite Client"
   ]
  },
  {
   "cell_type": "code",
   "execution_count": null,
   "metadata": {},
   "outputs": [],
   "source": [
    "c = interactive_client()"
   ]
  },
  {
   "cell_type": "markdown",
   "metadata": {
    "id": "klFiLHr468tD"
   },
   "source": [
    "## List operation\n",
    "\n",
    "**Code Pattern**\n",
    "`client.<cdf_resource_type>.list()`\n",
    "where **cdf_resource_type** = { data_sets, assets, time_series, events, files, labels, sequences, relationships ... }\n"
   ]
  },
  {
   "cell_type": "markdown",
   "metadata": {
    "id": "t7RAQDHpC0Kx"
   },
   "source": [
    "### List the CDF Resource types"
   ]
  },
  {
   "cell_type": "code",
   "execution_count": null,
   "metadata": {
    "id": "4cRIhSz569OH"
   },
   "outputs": [],
   "source": [
    "c.data_sets.list()"
   ]
  },
  {
   "cell_type": "code",
   "execution_count": null,
   "metadata": {
    "id": "sr_Wk7L7gbGF"
   },
   "outputs": [],
   "source": [
    "c.assets.list(limit=5)"
   ]
  },
  {
   "cell_type": "code",
   "execution_count": null,
   "metadata": {
    "id": "9zx-JAevgbDj"
   },
   "outputs": [],
   "source": [
    "df = c.time_series.list(limit=None).to_pandas()"
   ]
  },
  {
   "cell_type": "code",
   "execution_count": null,
   "metadata": {},
   "outputs": [],
   "source": [
    "df.shape"
   ]
  },
  {
   "cell_type": "code",
   "execution_count": null,
   "metadata": {
    "id": "02rDfBVRga2D"
   },
   "outputs": [],
   "source": [
    "c.events.list(limit=5)"
   ]
  },
  {
   "cell_type": "code",
   "execution_count": null,
   "metadata": {
    "id": "IS4LrbiogazU"
   },
   "outputs": [],
   "source": [
    "c.files.list(limit=5)"
   ]
  },
  {
   "cell_type": "markdown",
   "metadata": {
    "id": "4g67uRXEkffO"
   },
   "source": [
    "Similar code for listing other resource types\n",
    "\n",
    "\n",
    "```\n",
    "c.labels.list()\n",
    "```\n",
    "```\n",
    "c.sequences.list()\n",
    "```\n",
    "```\n",
    "c.relationships.list()\n",
    "```\n"
   ]
  },
  {
   "cell_type": "code",
   "execution_count": null,
   "metadata": {},
   "outputs": [],
   "source": [
    "c.labels.list(limit=5)"
   ]
  },
  {
   "cell_type": "code",
   "execution_count": null,
   "metadata": {},
   "outputs": [],
   "source": [
    "c.sequences.list(limit=5)"
   ]
  },
  {
   "cell_type": "code",
   "execution_count": null,
   "metadata": {},
   "outputs": [],
   "source": [
    "c.relationships.list(limit=5)"
   ]
  },
  {
   "cell_type": "markdown",
   "metadata": {
    "id": "HWQ-sk6j9LVV"
   },
   "source": [
    "### Filter the list results"
   ]
  },
  {
   "attachments": {},
   "cell_type": "markdown",
   "metadata": {
    "id": "ynD-tIvC9q-P"
   },
   "source": [
    "using label filter, the data in cdf doesn't have these labels. But it is an example on how to filter with labels"
   ]
  },
  {
   "cell_type": "code",
   "execution_count": null,
   "metadata": {},
   "outputs": [],
   "source": [
    "from cognite.client.data_classes import LabelFilter"
   ]
  },
  {
   "cell_type": "code",
   "execution_count": null,
   "metadata": {
    "id": "oYdPzdSt9TPT"
   },
   "outputs": [],
   "source": [
    "c.assets.list(labels=LabelFilter(contains_all=[\"industrial-assets\"]),limit=5)"
   ]
  },
  {
   "cell_type": "code",
   "execution_count": null,
   "metadata": {
    "id": "rziDSqqI9umu"
   },
   "outputs": [],
   "source": [
    "c.assets.list(labels=LabelFilter(contains_any=[\"industrial-assets\"]))"
   ]
  },
  {
   "cell_type": "markdown",
   "metadata": {
    "id": "6WqLyyUD94LM"
   },
   "source": [
    "Other filters"
   ]
  },
  {
   "cell_type": "code",
   "execution_count": null,
   "metadata": {},
   "outputs": [],
   "source": [
    "c.data_sets.list()"
   ]
  },
  {
   "cell_type": "code",
   "execution_count": null,
   "metadata": {
    "id": "EorGytQX-S7h"
   },
   "outputs": [],
   "source": [
    "c.data_sets.list(write_protected=True)"
   ]
  },
  {
   "cell_type": "code",
   "execution_count": null,
   "metadata": {
    "id": "pEIBGgET96ss"
   },
   "outputs": [],
   "source": [
    "c.assets.list(root=True)"
   ]
  },
  {
   "cell_type": "markdown",
   "metadata": {
    "id": "yiYL-Jla9PxW"
   },
   "source": [
    "### Iterate over the list"
   ]
  },
  {
   "cell_type": "code",
   "execution_count": null,
   "metadata": {
    "id": "K1vQt0sI9PX_"
   },
   "outputs": [],
   "source": [
    "for data_set in c.data_sets:\n",
    "    print(data_set.id) # do something with the data_set"
   ]
  },
  {
   "cell_type": "markdown",
   "metadata": {
    "id": "n4i1qa84-d_k"
   },
   "source": [
    "When List is too big, then use the **chunk_size** parameter to get the list in chunks"
   ]
  },
  {
   "cell_type": "code",
   "execution_count": null,
   "metadata": {
    "id": "63zEEWDN-awG"
   },
   "outputs": [],
   "source": [
    "for data_set_list in c.data_sets(chunk_size=5):\n",
    "    print([x.name for x in data_set_list]) # do something with the list"
   ]
  },
  {
   "cell_type": "markdown",
   "metadata": {
    "id": "zpREYtwv6-D5"
   },
   "source": [
    "## Searching in CDF\n",
    "\n",
    "- Search the CDF resource types\n",
    "- Filter the search results\n",
    "\n",
    "**Code Pattern**\n",
    "\n",
    "`client.<cdf_resource_type>.search()`"
   ]
  },
  {
   "cell_type": "markdown",
   "metadata": {
    "id": "Kedd0ILi6O8O"
   },
   "source": [
    "### Fuzzy Search on one field"
   ]
  },
  {
   "cell_type": "code",
   "execution_count": null,
   "metadata": {
    "id": "kFd85SSP7DnB"
   },
   "outputs": [],
   "source": [
    "c.assets.search(name=\"Norway\",limit=5)"
   ]
  },
  {
   "cell_type": "code",
   "execution_count": null,
   "metadata": {
    "id": "Q2zWhWcB7ijs"
   },
   "outputs": [],
   "source": [
    "c.time_series.search(name=\"North\",limit=5)"
   ]
  },
  {
   "cell_type": "code",
   "execution_count": null,
   "metadata": {
    "id": "wEIqmZxk70fq"
   },
   "outputs": [],
   "source": [
    "c.files.search(name=\"sheet\")"
   ]
  },
  {
   "cell_type": "markdown",
   "metadata": {},
   "source": [
    "Similarly for sequences and events"
   ]
  },
  {
   "cell_type": "markdown",
   "metadata": {
    "id": "jCSkaBou7thI"
   },
   "source": [
    "`c.sequences.search(name=\"some name\")`\n",
    "\n",
    "`c.events.search(description=\"some description\")`"
   ]
  },
  {
   "cell_type": "markdown",
   "metadata": {
    "id": "na0PFS-t6RiI"
   },
   "source": [
    "### Multi-field fuzzy search"
   ]
  },
  {
   "cell_type": "code",
   "execution_count": null,
   "metadata": {
    "id": "08NCYLTt6U_Y"
   },
   "outputs": [],
   "source": [
    "c.assets.search(query=\"Nor\",limit=5)"
   ]
  },
  {
   "cell_type": "markdown",
   "metadata": {
    "id": "0n2Fjig66g-T"
   },
   "source": [
    "### Exact search on one field (e.g. name, description etc)"
   ]
  },
  {
   "cell_type": "code",
   "execution_count": null,
   "metadata": {
    "id": "ePj4KSx16gav"
   },
   "outputs": [],
   "source": [
    "c.assets.search(filter={\"name\": \"Canada\"})"
   ]
  },
  {
   "cell_type": "markdown",
   "metadata": {},
   "source": [
    "get all timeseries for the above asset"
   ]
  },
  {
   "cell_type": "code",
   "execution_count": null,
   "metadata": {
    "id": "d7uaUSRw8BtC"
   },
   "outputs": [],
   "source": [
    "c.time_series.search(filter={\"asset_ids\":[8516698919785878]})"
   ]
  },
  {
   "cell_type": "code",
   "execution_count": null,
   "metadata": {},
   "outputs": [],
   "source": [
    "c.events.list()[0].type"
   ]
  },
  {
   "cell_type": "code",
   "execution_count": null,
   "metadata": {
    "id": "OklvTdY_8G--"
   },
   "outputs": [],
   "source": [
    "# First get an example type to filter on\n",
    "example_type = c.events.list()[0].type\n",
    "# Filter the events of that type\n",
    "c.events.search(filter={\"type\":example_type})"
   ]
  },
  {
   "cell_type": "markdown",
   "metadata": {
    "id": "P4B-ZCWr7Flu"
   },
   "source": [
    "### Multiple filters in search function"
   ]
  },
  {
   "cell_type": "code",
   "execution_count": null,
   "metadata": {},
   "outputs": [],
   "source": [
    "c.assets.list(limit=5,data_set_external_ids=['world_info_academy'])"
   ]
  },
  {
   "cell_type": "code",
   "execution_count": null,
   "metadata": {},
   "outputs": [],
   "source": [
    "c.data_sets.list()"
   ]
  },
  {
   "cell_type": "code",
   "execution_count": null,
   "metadata": {},
   "outputs": [],
   "source": [
    "c.assets.list(root=True)"
   ]
  },
  {
   "cell_type": "code",
   "execution_count": null,
   "metadata": {
    "id": "B0CZKYSk7LUY"
   },
   "outputs": [],
   "source": [
    "c.assets.search(name=\"San\",filter={\"parent_ids\": [349354003007241]})"
   ]
  },
  {
   "cell_type": "markdown",
   "metadata": {
    "id": "f1g1ctbv7Olo"
   },
   "source": [
    "### Filter asset search using Label Filter"
   ]
  },
  {
   "cell_type": "code",
   "execution_count": null,
   "metadata": {},
   "outputs": [],
   "source": [
    "from cognite.client.data_classes import AssetFilter"
   ]
  },
  {
   "cell_type": "code",
   "execution_count": null,
   "metadata": {
    "id": "TDDxwIcP7YQy"
   },
   "outputs": [],
   "source": [
    "c.assets.search(name=\"Norway\",filter=AssetFilter(labels=LabelFilter(contains_all=[\"cold-countries\"])),limit=5)"
   ]
  },
  {
   "cell_type": "code",
   "execution_count": null,
   "metadata": {},
   "outputs": [],
   "source": [
    "c.assets.search(name=\"Can\",filter=AssetFilter(labels=LabelFilter(contains_all=[\"cold-countries\"])),limit=5)"
   ]
  },
  {
   "cell_type": "markdown",
   "metadata": {
    "id": "tTbOXMWa7ELN"
   },
   "source": [
    "## Retrieve the CDF resource types and data\n",
    "\n",
    "### Code Pattern\n",
    "`client.<cdf_resource_type>.retrieve()`\n",
    "\n",
    "`client.<cdf_resource_type>.retrieve_multiple()`"
   ]
  },
  {
   "cell_type": "markdown",
   "metadata": {
    "id": "wdbXCfd5CiBL"
   },
   "source": [
    "### Retrieve the CDF resource types"
   ]
  },
  {
   "cell_type": "markdown",
   "metadata": {
    "id": "cDhU53Aq_yP4"
   },
   "source": [
    "single item - using id"
   ]
  },
  {
   "cell_type": "code",
   "execution_count": null,
   "metadata": {},
   "outputs": [],
   "source": [
    "c.data_sets.list()"
   ]
  },
  {
   "cell_type": "code",
   "execution_count": null,
   "metadata": {
    "id": "kRjiJd3X_xwm"
   },
   "outputs": [],
   "source": [
    "# id of dataset\n",
    "c.data_sets.retrieve(id=2238694842784134)"
   ]
  },
  {
   "cell_type": "code",
   "execution_count": null,
   "metadata": {},
   "outputs": [],
   "source": [
    "c.time_series.retrieve(id=2238694842784134)"
   ]
  },
  {
   "cell_type": "code",
   "execution_count": null,
   "metadata": {
    "id": "Q2PQHLaeAKr8"
   },
   "outputs": [],
   "source": [
    "import datetime\n",
    "# id of timeseries\n",
    "c.time_series.data.retrieve(id=658605450035112, start=datetime.datetime(2018,1,1), end=datetime.datetime(2018,2,1))"
   ]
  },
  {
   "cell_type": "markdown",
   "metadata": {
    "id": "XVNLzXSY_1Bz"
   },
   "source": [
    "single item - using external_id"
   ]
  },
  {
   "cell_type": "code",
   "execution_count": null,
   "metadata": {
    "id": "7W7yRUde_24O"
   },
   "outputs": [],
   "source": [
    "c.data_sets.retrieve(external_id = \"world_info_academy\")"
   ]
  },
  {
   "cell_type": "markdown",
   "metadata": {
    "id": "xK7UVcQu_3Mb"
   },
   "source": [
    "multiple items - using ids"
   ]
  },
  {
   "cell_type": "code",
   "execution_count": null,
   "metadata": {},
   "outputs": [],
   "source": [
    "c.data_sets.list()"
   ]
  },
  {
   "cell_type": "code",
   "execution_count": null,
   "metadata": {
    "id": "vRScn6xT_448"
   },
   "outputs": [],
   "source": [
    "c.data_sets.retrieve_multiple(ids=[39210236434027, 145208858652069])"
   ]
  },
  {
   "cell_type": "markdown",
   "metadata": {
    "id": "dPJbvJt5_5Ml"
   },
   "source": [
    "multiple items - using external_ids"
   ]
  },
  {
   "cell_type": "code",
   "execution_count": null,
   "metadata": {
    "id": "TojMzQuo7ND9"
   },
   "outputs": [],
   "source": [
    "c.data_sets.retrieve_multiple(external_ids=[\"test_dataset1\", \"test_dataset2\",\"my_important_dataset\"], ignore_unknown_ids=True)"
   ]
  },
  {
   "cell_type": "code",
   "execution_count": null,
   "metadata": {
    "id": "P4rgCzSCAiyf"
   },
   "outputs": [],
   "source": [
    "from datetime import datetime\n",
    "# Don't put a long datetime range, as it'll fetch all the raw datapoints, which can be huge\n",
    "c.time_series.data.retrieve(external_id=['Nauru_population','Spain_population'],start=datetime(2000,1,1),end=datetime(2024,1,2))"
   ]
  },
  {
   "cell_type": "markdown",
   "metadata": {
    "id": "ZbmQ7nHH_LPc"
   },
   "source": [
    "### Retrieve all items related to an asset"
   ]
  },
  {
   "cell_type": "code",
   "execution_count": null,
   "metadata": {
    "id": "udVgSLje_NXY"
   },
   "outputs": [],
   "source": [
    "# get the asset object for \"Europa\"\n",
    "asset_obj = c.assets.retrieve(id = 349354003007241)"
   ]
  },
  {
   "cell_type": "code",
   "execution_count": null,
   "metadata": {},
   "outputs": [],
   "source": [
    "asset_obj"
   ]
  },
  {
   "cell_type": "markdown",
   "metadata": {
    "id": "eq605vFYBnIV"
   },
   "source": [
    "Asset Subtree"
   ]
  },
  {
   "cell_type": "code",
   "execution_count": null,
   "metadata": {
    "id": "yXW2cuwhBbwf"
   },
   "outputs": [],
   "source": [
    "c.assets.retrieve_subtree(id = 349354003007241)"
   ]
  },
  {
   "cell_type": "markdown",
   "metadata": {
    "id": "TBBB12OSBpNd"
   },
   "source": [
    "Children"
   ]
  },
  {
   "cell_type": "code",
   "execution_count": null,
   "metadata": {
    "id": "rV1BwOVaBdnO"
   },
   "outputs": [],
   "source": [
    "asset_obj.children()"
   ]
  },
  {
   "cell_type": "markdown",
   "metadata": {
    "id": "Fj_DvHb7Bq_1"
   },
   "source": [
    "Parent"
   ]
  },
  {
   "cell_type": "code",
   "execution_count": null,
   "metadata": {
    "id": "M7Po2WCHBfVb"
   },
   "outputs": [],
   "source": [
    "asset_obj.parent()"
   ]
  },
  {
   "cell_type": "markdown",
   "metadata": {
    "id": "MEg_F47FBttP"
   },
   "source": [
    "Events"
   ]
  },
  {
   "cell_type": "code",
   "execution_count": null,
   "metadata": {},
   "outputs": [],
   "source": [
    "# get the asset object for \"Italy\"\n",
    "asset_obj = c.assets.retrieve(id = 2689912833887590)"
   ]
  },
  {
   "cell_type": "code",
   "execution_count": null,
   "metadata": {
    "id": "e-61AvDQBgrj"
   },
   "outputs": [],
   "source": [
    "asset_obj.events(limit=-1)"
   ]
  },
  {
   "cell_type": "markdown",
   "metadata": {
    "id": "VPSqK5ytBzJ9"
   },
   "source": [
    "Timeseries"
   ]
  },
  {
   "cell_type": "code",
   "execution_count": null,
   "metadata": {},
   "outputs": [],
   "source": [
    "# get the asset object for \"Italy\"\n",
    "asset_obj = c.assets.retrieve(id = 2689912833887590)"
   ]
  },
  {
   "cell_type": "code",
   "execution_count": null,
   "metadata": {
    "id": "47w8pYzsBkz_"
   },
   "outputs": [],
   "source": [
    "asset_obj.time_series()"
   ]
  },
  {
   "cell_type": "markdown",
   "metadata": {
    "id": "ZZUMyvpp_N9x"
   },
   "source": [
    "### Retrieve data"
   ]
  },
  {
   "cell_type": "markdown",
   "metadata": {},
   "source": [
    "#### Retrieve Raw Data"
   ]
  },
  {
   "cell_type": "code",
   "execution_count": null,
   "metadata": {},
   "outputs": [],
   "source": [
    "# Don't put a long datetime range, as it'll fetch all the raw datapoints, which can be huge for Raw datapoints\n",
    "c.time_series.data.retrieve(id=239507005016003, end='now')"
   ]
  },
  {
   "cell_type": "markdown",
   "metadata": {},
   "source": [
    "#### Retrieve Aggregated data"
   ]
  },
  {
   "cell_type": "code",
   "execution_count": null,
   "metadata": {
    "id": "k4nW38fX_P8w"
   },
   "outputs": [],
   "source": [
    "c.time_series.data.retrieve_dataframe(id=239507005016003,\n",
    "                    end='1000w-ago',\n",
    "                    aggregates=[\"average\",\"sum\"],\n",
    "                    granularity=\"1h\")"
   ]
  },
  {
   "cell_type": "markdown",
   "metadata": {},
   "source": [
    "Retrieve latest datapoint before a particular time (last or any past time point)"
   ]
  },
  {
   "cell_type": "code",
   "execution_count": null,
   "metadata": {},
   "outputs": [],
   "source": [
    "c.time_series.data.retrieve_latest(id=239507005016003, before=\"5w-ago\")[0]"
   ]
  },
  {
   "cell_type": "markdown",
   "metadata": {
    "id": "nwWAvP_W_QZV"
   },
   "source": [
    "### Plot the data points"
   ]
  },
  {
   "cell_type": "code",
   "execution_count": null,
   "metadata": {
    "id": "wb_621MV_SUI"
   },
   "outputs": [],
   "source": [
    "c.time_series.data.retrieve(id=239507005016003, end='1000w-ago').to_pandas().plot()"
   ]
  },
  {
   "cell_type": "markdown",
   "metadata": {
    "id": "vBuf63tl_SqT"
   },
   "source": [
    "### Download files"
   ]
  },
  {
   "cell_type": "markdown",
   "metadata": {
    "id": "y9PtLo9jCXD8"
   },
   "source": [
    "Download files to disk"
   ]
  },
  {
   "cell_type": "code",
   "execution_count": null,
   "metadata": {},
   "outputs": [],
   "source": [
    "files_list = c.files.search(filter={\"uploaded\":True},limit=5)\n",
    "files_list"
   ]
  },
  {
   "cell_type": "code",
   "execution_count": null,
   "metadata": {
    "id": "yyPTAoO-_TjD"
   },
   "outputs": [],
   "source": [
    "! mkdir files"
   ]
  },
  {
   "cell_type": "code",
   "execution_count": null,
   "metadata": {},
   "outputs": [],
   "source": [
    "c.files.download(directory=\"files\", id=[202614441188439, 4009508514690241])"
   ]
  },
  {
   "cell_type": "markdown",
   "metadata": {
    "id": "9NhuRd40CXv-"
   },
   "source": [
    "Download a single file to a specific path"
   ]
  },
  {
   "cell_type": "code",
   "execution_count": null,
   "metadata": {
    "id": "Y4pzMxygCRmQ"
   },
   "outputs": [],
   "source": [
    "c.files.download_to_path(\"files/test.svg\", id=202614441188439)"
   ]
  }
 ],
 "metadata": {
  "kernelspec": {
   "display_name": "Python 3",
   "language": "python",
   "name": "python3"
  },
  "language_info": {
   "codemirror_mode": {
    "name": "ipython",
    "version": 3
   },
   "file_extension": ".py",
   "mimetype": "text/x-python",
   "name": "python",
   "nbconvert_exporter": "python",
   "pygments_lexer": "ipython3",
   "version": "3.9.16 (main, Feb  1 2023, 12:36:23) \n[Clang 14.0.0 (clang-1400.0.29.202)]"
  },
  "vscode": {
   "interpreter": {
    "hash": "44632770a8e081848b27e822703d69684fcad84b9999757e821a0f496acab079"
   }
  }
 },
 "nbformat": 4,
 "nbformat_minor": 2
}
