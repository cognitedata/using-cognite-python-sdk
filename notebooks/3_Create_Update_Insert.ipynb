{
 "cells": [
  {
   "cell_type": "markdown",
   "metadata": {},
   "source": [
    "# Copyright 2022 Cognite AS\n",
    "\n",
    "## Import the Libraries and Modules"
   ]
  },
  {
   "cell_type": "code",
   "execution_count": null,
   "metadata": {},
   "outputs": [],
   "source": [
    "import sys\n",
    "from pathlib import Path\n",
    "\n",
    "utils = str(Path(\"../utils\").resolve())\n",
    "if utils not in sys.path:\n",
    "    sys.path.append(utils)\n",
    "\n",
    "from cognite_auth import interactive_client"
   ]
  },
  {
   "cell_type": "markdown",
   "metadata": {},
   "source": [
    "## Create the Cognite Client"
   ]
  },
  {
   "cell_type": "code",
   "execution_count": null,
   "metadata": {},
   "outputs": [],
   "source": [
    "c = interactive_client()"
   ]
  },
  {
   "cell_type": "markdown",
   "metadata": {
    "id": "s5iBkw997VV3"
   },
   "source": [
    "## Create various resource types"
   ]
  },
  {
   "cell_type": "markdown",
   "metadata": {
    "id": "2JHlYHDhEBMk"
   },
   "source": [
    "Create timeseries, datasets, labels, events etc.\n",
    "\n",
    "**Code Pattern**\n",
    "\n",
    "`client.<cdf_resource_type>.create()`"
   ]
  },
  {
   "cell_type": "markdown",
   "metadata": {
    "id": "D0XyKdNAEaMt"
   },
   "source": [
    "Dataset"
   ]
  },
  {
   "cell_type": "code",
   "execution_count": null,
   "metadata": {
    "id": "qPRljoPOECO8"
   },
   "outputs": [],
   "source": [
    "from cognite.client.data_classes import DataSet"
   ]
  },
  {
   "cell_type": "code",
   "execution_count": null,
   "metadata": {},
   "outputs": [],
   "source": [
    "c.data_sets.list()"
   ]
  },
  {
   "attachments": {},
   "cell_type": "markdown",
   "metadata": {},
   "source": [
    "Add your prefix to make sure that the data we create are unique\n",
    "You can for example use your name as a prefix"
   ]
  },
  {
   "cell_type": "code",
   "execution_count": null,
   "metadata": {},
   "outputs": [],
   "source": [
    "prefix = \"my_name\""
   ]
  },
  {
   "cell_type": "code",
   "execution_count": null,
   "metadata": {},
   "outputs": [],
   "source": [
    "ds = c.data_sets.create(DataSet(name=prefix+\"_example_dataset\",external_id=prefix))\n",
    "ds"
   ]
  },
  {
   "attachments": {},
   "cell_type": "markdown",
   "metadata": {},
   "source": [
    "When we create the other data objects, we will make sure they all goes into your data set"
   ]
  },
  {
   "cell_type": "code",
   "execution_count": null,
   "metadata": {},
   "outputs": [],
   "source": [
    "ds_id = ds.id"
   ]
  },
  {
   "cell_type": "markdown",
   "metadata": {
    "id": "9v6_yKkOEcqV"
   },
   "source": [
    "Labels"
   ]
  },
  {
   "cell_type": "code",
   "execution_count": null,
   "metadata": {
    "id": "TB2QTqxIEZEl"
   },
   "outputs": [],
   "source": [
    "from cognite.client.data_classes import LabelDefinition\n",
    "labels = [\n",
    "    LabelDefinition(\n",
    "        external_id=\"ROTATING_EQUIPMENT_\" + prefix,\n",
    "        name=\"Rotating equipment\",\n",
    "        data_set_id=ds_id,\n",
    "    ),\n",
    "    LabelDefinition(\n",
    "        external_id=\"PUMP_\" + prefix,\n",
    "        name=\"pump\",\n",
    "        data_set_id=ds_id,\n",
    "    )\n",
    "]\n",
    "res = c.labels.create(labels)"
   ]
  },
  {
   "cell_type": "code",
   "execution_count": null,
   "metadata": {},
   "outputs": [],
   "source": [
    "c.labels.list()"
   ]
  },
  {
   "cell_type": "markdown",
   "metadata": {
    "id": "OSXRtveaEfVA"
   },
   "source": [
    "Assets"
   ]
  },
  {
   "cell_type": "code",
   "execution_count": null,
   "metadata": {
    "id": "IxX1n5WAEg_n"
   },
   "outputs": [],
   "source": [
    "from cognite.client.data_classes import Asset\n",
    "assets = [Asset(name=\"asset1\",external_id=\"asset1_\"+prefix,data_set_id=ds_id), \n",
    "            Asset(name=\"asset2\",external_id=\"asset2_\"+prefix,data_set_id=ds_id)]\n",
    "res = c.assets.create(assets)"
   ]
  },
  {
   "cell_type": "code",
   "execution_count": null,
   "metadata": {},
   "outputs": [],
   "source": [
    "c.assets.list(data_set_ids=ds_id)"
   ]
  },
  {
   "cell_type": "markdown",
   "metadata": {
    "id": "YAsozuRdExtm"
   },
   "source": [
    "Timeseries"
   ]
  },
  {
   "cell_type": "code",
   "execution_count": null,
   "metadata": {
    "id": "gToz_Q_KEzZv"
   },
   "outputs": [],
   "source": [
    "from cognite.client.data_classes import TimeSeries\n",
    "ts = c.time_series.create(TimeSeries(name=\"timeseries_\"+prefix,external_id = \"timeseries_\"+prefix,data_set_id=ds_id ))"
   ]
  },
  {
   "cell_type": "code",
   "execution_count": null,
   "metadata": {},
   "outputs": [],
   "source": [
    "ts"
   ]
  },
  {
   "cell_type": "markdown",
   "metadata": {
    "id": "iJ_789Q0E5H6"
   },
   "source": [
    "Sequences"
   ]
  },
  {
   "cell_type": "code",
   "execution_count": null,
   "metadata": {
    "id": "hSh2ng1uE66C"
   },
   "outputs": [],
   "source": [
    "from cognite.client.data_classes import Sequence\n",
    "column_def = [{\"valueType\":\"STRING\",\"externalId\":\"user\",\"description\":\"some description\"},\n",
    "             {\"valueType\":\"DOUBLE\",\"externalId\":\"amount\"}]\n",
    "seq = c.sequences.create(Sequence(external_id=prefix+\"_test_sequence\",name=prefix+\" test sequence\", columns=column_def,data_set_id=ds_id ))"
   ]
  },
  {
   "cell_type": "markdown",
   "metadata": {
    "id": "P5P3tbMGE-FL"
   },
   "source": [
    "Files metadata"
   ]
  },
  {
   "cell_type": "code",
   "execution_count": null,
   "metadata": {
    "id": "SLpIHuY9FAaa"
   },
   "outputs": [],
   "source": [
    "from cognite.client.data_classes import FileMetadata\n",
    "file_metadata = FileMetadata(name=prefix+\" file\",external_id=prefix+\"_file\",data_set_id=ds_id)\n",
    "res = c.files.create(file_metadata)"
   ]
  },
  {
   "cell_type": "code",
   "execution_count": null,
   "metadata": {},
   "outputs": [],
   "source": [
    "res"
   ]
  },
  {
   "cell_type": "markdown",
   "metadata": {
    "id": "d9RvuDbUFJEf"
   },
   "source": [
    "Relationships"
   ]
  },
  {
   "cell_type": "code",
   "execution_count": null,
   "metadata": {
    "id": "zi28eza0FHv0"
   },
   "outputs": [],
   "source": [
    "from cognite.client.data_classes import Relationship\n",
    "flowrel1 = Relationship(external_id=prefix+\"_flow_12_test\", source_external_id=\"asset1_\"+prefix, source_type=\"asset\", target_external_id=\"asset2_\"+prefix, target_type=\"asset\", confidence=0.1, data_set_id=ds_id)\n",
    "flowrel2 = Relationship(external_id=prefix+\"_flow_21_test\", source_external_id=\"asset2_\"+prefix, source_type=\"asset\", target_external_id=\"asset1_\"+prefix, target_type=\"asset\", confidence=0.1, data_set_id=ds_id)\n",
    "res = c.relationships.create([flowrel1,flowrel2])"
   ]
  },
  {
   "cell_type": "code",
   "execution_count": null,
   "metadata": {},
   "outputs": [],
   "source": [
    "c.relationships.list()"
   ]
  },
  {
   "cell_type": "markdown",
   "metadata": {
    "id": "4m3pmjlFFRAT"
   },
   "source": [
    "Create Asset with Labels"
   ]
  },
  {
   "cell_type": "code",
   "execution_count": null,
   "metadata": {
    "id": "nW5H27-fFUYA"
   },
   "outputs": [],
   "source": [
    "from cognite.client.data_classes import Label\n",
    "asset = Asset(name=prefix+\"_test_pump\", labels=[Label(external_id=\"PUMP_\"+prefix)],data_set_id=ds_id)\n",
    "res = c.assets.create(asset)"
   ]
  },
  {
   "cell_type": "code",
   "execution_count": null,
   "metadata": {},
   "outputs": [],
   "source": [
    "res"
   ]
  },
  {
   "cell_type": "markdown",
   "metadata": {
    "id": "yoFhiwAPFVT5"
   },
   "source": [
    "Create Asset Hierarchy"
   ]
  },
  {
   "cell_type": "code",
   "execution_count": null,
   "metadata": {
    "id": "r1E317kKFZD0"
   },
   "outputs": [],
   "source": [
    "assets_list = [Asset(external_id=prefix+\"_root\", name=prefix+\" Root\",data_set_id=ds_id),\n",
    "          Asset(external_id=prefix+\"_child1\", parent_external_id=prefix+\"_root\", name=\"child1\",data_set_id=ds_id), \n",
    "          Asset(external_id=prefix+\"_child2\", parent_external_id=prefix+\"_root\", name=\"child2\",data_set_id=ds_id),\n",
    "          Asset(external_id=prefix+\"_child_of_child1\", parent_external_id=prefix+\"_child1\", name=\"child_of_child1\",data_set_id=ds_id)]\n",
    "res = c.assets.create_hierarchy(assets_list)"
   ]
  },
  {
   "cell_type": "code",
   "execution_count": null,
   "metadata": {},
   "outputs": [],
   "source": [
    "c.assets.retrieve_subtree(external_id=prefix+\"_root\")"
   ]
  },
  {
   "cell_type": "markdown",
   "metadata": {
    "id": "LAbedXzg7Yjp"
   },
   "source": [
    "## Update various resource types\n",
    "**Code Pattern**\n",
    "\n",
    "`client.<cdf_resource_type>.update()`"
   ]
  },
  {
   "cell_type": "markdown",
   "metadata": {
    "id": "H9Ch_ASeHbsA"
   },
   "source": [
    "Full Update"
   ]
  },
  {
   "cell_type": "code",
   "execution_count": null,
   "metadata": {},
   "outputs": [],
   "source": [
    "c.data_sets.list()"
   ]
  },
  {
   "cell_type": "code",
   "execution_count": null,
   "metadata": {
    "id": "ZMu5NAur7cRL"
   },
   "outputs": [],
   "source": [
    "data_set = c.data_sets.retrieve(id=ds_id)\n",
    "data_set"
   ]
  },
  {
   "cell_type": "code",
   "execution_count": null,
   "metadata": {},
   "outputs": [],
   "source": [
    "data_set.description = \"This is a Example Dataset\"\n",
    "res = c.data_sets.update(data_set)"
   ]
  },
  {
   "cell_type": "code",
   "execution_count": null,
   "metadata": {},
   "outputs": [],
   "source": [
    "res"
   ]
  },
  {
   "cell_type": "markdown",
   "metadata": {
    "id": "wefIF0aeHdit"
   },
   "source": [
    "Partial Update"
   ]
  },
  {
   "cell_type": "code",
   "execution_count": null,
   "metadata": {
    "id": "I26R9-9pHfuj"
   },
   "outputs": [],
   "source": [
    "from cognite.client.data_classes import DataSetUpdate\n",
    "my_update = DataSetUpdate(id=ds_id).description.set(\"New description with Partial Update\")#.metadata.remove([\"key\"])\n",
    "res = c.data_sets.update(my_update)"
   ]
  },
  {
   "cell_type": "code",
   "execution_count": null,
   "metadata": {},
   "outputs": [],
   "source": [
    "res"
   ]
  },
  {
   "cell_type": "code",
   "execution_count": null,
   "metadata": {
    "id": "bYnVwVIjGuRV"
   },
   "outputs": [],
   "source": [
    "from cognite.client.data_classes import AssetUpdate\n",
    "my_update = AssetUpdate(external_id=\"asset1_\"+prefix).description.set(\"New description using AssetUpdate\")#.metadata.add({\"key\": \"value\"})\n",
    "res1 = c.assets.update(my_update)"
   ]
  },
  {
   "cell_type": "code",
   "execution_count": null,
   "metadata": {},
   "outputs": [],
   "source": [
    "res1"
   ]
  },
  {
   "cell_type": "markdown",
   "metadata": {
    "id": "xp9DoF0aHtUW"
   },
   "source": [
    "Partial Update"
   ]
  },
  {
   "cell_type": "code",
   "execution_count": null,
   "metadata": {
    "id": "R4_TYNeaHvlU"
   },
   "outputs": [],
   "source": [
    "another_update = AssetUpdate(external_id=\"asset1_\"+prefix).description.set(None)\n",
    "res2 = c.assets.update(another_update)"
   ]
  },
  {
   "cell_type": "code",
   "execution_count": null,
   "metadata": {},
   "outputs": [],
   "source": [
    "res2"
   ]
  },
  {
   "cell_type": "markdown",
   "metadata": {
    "id": "70cp7y_RHwu5"
   },
   "source": [
    "\n",
    "\n",
    "---\n",
    "\n"
   ]
  },
  {
   "cell_type": "code",
   "execution_count": null,
   "metadata": {
    "id": "b5a2fR3JGxmx"
   },
   "outputs": [],
   "source": [
    "res = c.time_series.retrieve(external_id=\"timeseries_\"+prefix)\n",
    "res.description = \"New description\"\n",
    "res = c.time_series.update(res)\n",
    "res"
   ]
  },
  {
   "cell_type": "code",
   "execution_count": null,
   "metadata": {
    "id": "FwnmBJ5ZHRpk"
   },
   "outputs": [],
   "source": [
    "rel = c.relationships.retrieve(external_id=prefix+\"_flow_12_test\")\n",
    "rel.confidence = 0.75\n",
    "res = c.relationships.update(rel)\n",
    "res"
   ]
  },
  {
   "cell_type": "markdown",
   "metadata": {
    "id": "fuz3rX3c7c3a"
   },
   "source": [
    "## Insert the data in CDF\n",
    "\n",
    "**Code Pattern**\n",
    "`client.<cdf_resource_type>.insert()`"
   ]
  },
  {
   "cell_type": "markdown",
   "metadata": {
    "id": "Mu66W_NUILWr"
   },
   "source": [
    "### Insert the Datapoints/Rows"
   ]
  },
  {
   "attachments": {},
   "cell_type": "markdown",
   "metadata": {},
   "source": [
    "A datapoint consists of a value and a timestamp. We also need to tell which time series we want to write these datapoints into. \n",
    "We will use a time series that we created earlier and insert datapoints. "
   ]
  },
  {
   "cell_type": "code",
   "execution_count": null,
   "metadata": {
    "id": "Ku70KLW97gX6"
   },
   "outputs": [],
   "source": [
    "from datetime import datetime\n",
    "# with datetime objects\n",
    "datapoints = [(datetime(2020,1,1), 1000), (datetime(2020,1,2), 2000)]\n",
    "c.time_series.data.insert(datapoints, external_id=\"timeseries_\"+prefix)"
   ]
  },
  {
   "attachments": {},
   "cell_type": "markdown",
   "metadata": {},
   "source": [
    "We can use milliseconds when inserting datapoints as well"
   ]
  },
  {
   "cell_type": "code",
   "execution_count": null,
   "metadata": {},
   "outputs": [],
   "source": [
    "datapoints = [(1577836800000, 800), (1580515200000, 500)]\n",
    "c.time_series.data.insert(datapoints, external_id=\"timeseries_\"+prefix)"
   ]
  },
  {
   "attachments": {},
   "cell_type": "markdown",
   "metadata": {},
   "source": [
    "Look at the datapoints that was created"
   ]
  },
  {
   "cell_type": "code",
   "execution_count": null,
   "metadata": {},
   "outputs": [],
   "source": [
    "c.time_series.data.retrieve(external_id=\"timeseries_\"+prefix,start=datetime(2020,1,1),end=datetime(2021,1,1))"
   ]
  },
  {
   "cell_type": "code",
   "execution_count": null,
   "metadata": {},
   "outputs": [],
   "source": [
    "c.sequences.retrieve(external_id=prefix+\"_test_sequence\").columns"
   ]
  },
  {
   "cell_type": "code",
   "execution_count": null,
   "metadata": {
    "id": "VUjB8J6EIzMO"
   },
   "outputs": [],
   "source": [
    "data = [(1, ['user1',3.14]), (2, ['user2',2.72]) ]\n",
    "c.sequences.data.insert(columns=[\"user\",\"amount\"], rows=data, external_id=prefix+\"_test_sequence\")"
   ]
  },
  {
   "attachments": {},
   "cell_type": "markdown",
   "metadata": {},
   "source": [
    "Look at the sequences that was created"
   ]
  },
  {
   "cell_type": "code",
   "execution_count": null,
   "metadata": {},
   "outputs": [],
   "source": [
    "c.sequences.data.retrieve_dataframe(external_id=prefix+\"_test_sequence\",start=0,end=100)"
   ]
  },
  {
   "cell_type": "markdown",
   "metadata": {
    "id": "Db5IlvxWIQoS"
   },
   "source": [
    "### Insert the Dataframe"
   ]
  },
  {
   "cell_type": "code",
   "execution_count": null,
   "metadata": {},
   "outputs": [],
   "source": [
    "import pandas as pd\n",
    "from datetime import timedelta\n",
    "import numpy as np"
   ]
  },
  {
   "cell_type": "code",
   "execution_count": null,
   "metadata": {
    "id": "2WChF6E_ISyR"
   },
   "outputs": [],
   "source": [
    "ts_xid = \"timeseries_\"+prefix\n",
    "x = pd.date_range(start=\"2023\", freq=\"1d\", periods=100)\n",
    "y = np.random.normal(0, 1, 100)\n",
    "df = pd.DataFrame({ts_xid: y}, index=x)\n",
    "df"
   ]
  },
  {
   "cell_type": "code",
   "execution_count": null,
   "metadata": {},
   "outputs": [],
   "source": [
    "c.time_series.data.insert_dataframe(df, external_id_headers=True)"
   ]
  }
 ],
 "metadata": {
  "kernelspec": {
   "display_name": "Python 3",
   "language": "python",
   "name": "python3"
  },
  "language_info": {
   "codemirror_mode": {
    "name": "ipython",
    "version": 3
   },
   "file_extension": ".py",
   "mimetype": "text/x-python",
   "name": "python",
   "nbconvert_exporter": "python",
   "pygments_lexer": "ipython3",
   "version": "3.9.16 (main, Feb  1 2023, 12:36:23) \n[Clang 14.0.0 (clang-1400.0.29.202)]"
  },
  "vscode": {
   "interpreter": {
    "hash": "44632770a8e081848b27e822703d69684fcad84b9999757e821a0f496acab079"
   }
  }
 },
 "nbformat": 4,
 "nbformat_minor": 2
}
