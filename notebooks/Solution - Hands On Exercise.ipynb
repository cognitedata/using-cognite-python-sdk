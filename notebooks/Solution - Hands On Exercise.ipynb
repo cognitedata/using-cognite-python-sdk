{
 "cells": [
  {
   "cell_type": "markdown",
   "id": "eb59dea9",
   "metadata": {},
   "source": [
    "# Copyright 2022 Cognite AS\n",
    "\n",
    "# 0 Create the Cognite Client"
   ]
  },
  {
   "cell_type": "code",
   "execution_count": null,
   "id": "5bd2075d",
   "metadata": {},
   "outputs": [],
   "source": [
    "import sys\n",
    "from pathlib import Path\n",
    "\n",
    "utils = str(Path(\"../utils\").resolve())\n",
    "if utils not in sys.path:\n",
    "    sys.path.append(utils)\n",
    "\n",
    "from cognite_auth import interactive_client\n",
    "\n",
    "client = interactive_client()"
   ]
  },
  {
   "cell_type": "markdown",
   "id": "2923a334",
   "metadata": {},
   "source": [
    "# 1 Create a data set"
   ]
  },
  {
   "cell_type": "code",
   "execution_count": null,
   "id": "138523f6",
   "metadata": {},
   "outputs": [],
   "source": [
    "from cognite.client.data_classes import DataSet\n",
    "\n",
    "my_data_set = DataSet(external_id = 'world_info_jack', name = 'world_info_jack')\n",
    "\n",
    "created_data_set = client.data_sets.create(my_data_set)\n",
    "\n",
    "data_set_id = created_data_set.id\n",
    "\n",
    "print(data_set_id)"
   ]
  },
  {
   "cell_type": "markdown",
   "id": "0ce0ee5d",
   "metadata": {},
   "source": [
    "# 2 Create Asset Hierarchy"
   ]
  },
  {
   "cell_type": "code",
   "execution_count": null,
   "id": "a0be99f5",
   "metadata": {},
   "outputs": [],
   "source": [
    "from cognite.client.data_classes import Asset\n",
    "\n",
    "# Create Root Asset\n",
    "root_asset = client.assets.create(Asset(name='world', data_set_id=data_set_id))\n",
    "root_asset"
   ]
  },
  {
   "cell_type": "code",
   "execution_count": null,
   "id": "883758dc",
   "metadata": {},
   "outputs": [],
   "source": [
    "from cognite.client.data_classes import AssetUpdate\n",
    "\n",
    "# Update the name of the root asset\n",
    "my_update = AssetUpdate(id=root_asset.id).name.set(\"global\")\n",
    "client.assets.update(my_update)"
   ]
  },
  {
   "cell_type": "code",
   "execution_count": null,
   "id": "802b3c21",
   "metadata": {},
   "outputs": [],
   "source": [
    "import pandas as pd\n",
    "\n",
    "# Read country data and see all unique regions\n",
    "df = pd.read_csv('../data/all_countries.csv')\n",
    "df['region'].unique()"
   ]
  },
  {
   "cell_type": "code",
   "execution_count": null,
   "id": "cab4b39a",
   "metadata": {},
   "outputs": [],
   "source": [
    "# Create each region as a new asset\n",
    "store = []\n",
    "for region in df['region'].unique():\n",
    "    asset=Asset(name=region, data_set_id=data_set_id,parent_id=root_asset.id)\n",
    "    store.append(asset)\n",
    "\n",
    "client.assets.create(store)"
   ]
  },
  {
   "cell_type": "code",
   "execution_count": null,
   "id": "922e075b",
   "metadata": {},
   "outputs": [],
   "source": [
    "# Find the mapping between the region level asset and its id\n",
    "region_to_id = client.assets.list(data_set_ids=[data_set_id]).to_pandas()[['name','id']].set_index('name')['id'].to_dict()\n",
    "region_to_id"
   ]
  },
  {
   "cell_type": "code",
   "execution_count": null,
   "id": "657b18fa",
   "metadata": {},
   "outputs": [],
   "source": [
    "# Find all countries and which regions they belong to\n",
    "countries_to_regions = df[['name','region']].set_index('name').to_dict()['region']\n",
    "countries_to_regions"
   ]
  },
  {
   "cell_type": "code",
   "execution_count": null,
   "id": "684fda58",
   "metadata": {},
   "outputs": [],
   "source": [
    "# Create an asset for each country\n",
    "store = []\n",
    "for country in countries_to_regions:\n",
    "    \n",
    "    region = countries_to_regions[country]\n",
    "    asset=Asset(name=country, data_set_id=data_set_id,parent_id=region_to_id[region])\n",
    "    store.append(asset)\n",
    "    \n",
    "client.assets.create(store)"
   ]
  },
  {
   "cell_type": "code",
   "execution_count": null,
   "id": "5afe8eae",
   "metadata": {},
   "outputs": [],
   "source": [
    "# Find all assets in the Europe region\n",
    "client.assets.list(data_set_ids=[data_set_id],parent_ids=[region_to_id['Europe']],limit=-1).to_pandas()"
   ]
  },
  {
   "cell_type": "markdown",
   "id": "e6a1004e",
   "metadata": {},
   "source": [
    "# 3 Adding Time Series Data"
   ]
  },
  {
   "cell_type": "code",
   "execution_count": null,
   "id": "f5cc8fa3",
   "metadata": {},
   "outputs": [],
   "source": [
    "# Read population data\n",
    "df= pd.read_csv('../data/populations_postprocessed.csv', index_col=0, parse_dates=True)\n",
    "df.head()"
   ]
  },
  {
   "cell_type": "code",
   "execution_count": null,
   "id": "d53c90a8",
   "metadata": {},
   "outputs": [],
   "source": [
    "# Find mapping of country to its id\n",
    "country_to_id = client.assets.list(data_set_ids=[data_set_id], limit=-1).to_pandas()[['name','id']].set_index('name')['id'].to_dict()\n",
    "\n",
    "country_to_id"
   ]
  },
  {
   "cell_type": "code",
   "execution_count": null,
   "id": "088bc7ac",
   "metadata": {},
   "outputs": [],
   "source": [
    "from cognite.client.data_classes import TimeSeries\n",
    "\n",
    "# Create a time series object for each country to store population data\n",
    "store = []\n",
    "for country in df.columns:\n",
    "    ts = TimeSeries(name=f'{country}_population',data_set_id=data_set_id, asset_id=country_to_id[country])\n",
    "    store.append(ts)\n",
    "    \n",
    "client.time_series.create(store)"
   ]
  },
  {
   "cell_type": "code",
   "execution_count": null,
   "id": "8854d6db",
   "metadata": {},
   "outputs": [],
   "source": [
    "# Change the name of the columns in the data frame\n",
    "df.columns = df.columns+'_population'\n",
    "\n",
    "# Find the mapping of the time series to its id\n",
    "ts_to_id = client.time_series.list(data_set_ids=[data_set_id], limit=-1).to_pandas()[['name','id']].set_index('name')['id'].to_dict()\n",
    "\n",
    "# Rename data frame so that columns correspond to the time seris id\n",
    "df = df.rename(columns=ts_to_id)\n",
    "\n",
    "df.head()"
   ]
  },
  {
   "cell_type": "code",
   "execution_count": null,
   "id": "7c1d1a4f",
   "metadata": {},
   "outputs": [],
   "source": [
    "# Insert the population data as a dataframe\n",
    "client.time_series.data.insert_dataframe(df, external_id_headers=False)"
   ]
  },
  {
   "cell_type": "code",
   "execution_count": null,
   "id": "fc658c79",
   "metadata": {},
   "outputs": [],
   "source": [
    "# Find the latest value for the population of Benin\n",
    "client.time_series.data.retrieve_latest(ts_to_id['Benin_population'])"
   ]
  },
  {
   "cell_type": "code",
   "execution_count": null,
   "id": "374bc34c",
   "metadata": {},
   "outputs": [],
   "source": [
    "# List all assets in Europe\n",
    "assets = client.assets.list(data_set_ids=[data_set_id],parent_ids=[region_to_id['Europe']], limit=-1)\n",
    "\n",
    "# List all time series of those assets\n",
    "ts = client.time_series.list(data_set_ids=[data_set_id],asset_ids=[asset.id for asset in assets], limit=-1)\n",
    "\n",
    "# Retrieve the latest data for all of these time series\n",
    "data = client.time_series.data.retrieve_latest([item.id for item in ts]).to_pandas()\n",
    "\n",
    "data.head()"
   ]
  },
  {
   "cell_type": "code",
   "execution_count": null,
   "id": "3dfd4e1e",
   "metadata": {},
   "outputs": [],
   "source": [
    "# Perform a sum to evaluate whole population\n",
    "data.T.sum()"
   ]
  },
  {
   "cell_type": "markdown",
   "id": "5fe214dd",
   "metadata": {},
   "source": [
    "## 4. Uploading Files"
   ]
  },
  {
   "cell_type": "code",
   "execution_count": null,
   "id": "62524daf",
   "metadata": {},
   "outputs": [],
   "source": [
    "import os\n",
    "\n",
    "# List all files and upload them\n",
    "for item in os.listdir('../data/files'):\n",
    "    country = item.split('.')[0]\n",
    "    client.files.upload(f\"../data/files/{item}\", name=f\"{country}_data_sheet\",data_set_id=data_set_id, asset_ids=[country_to_id[country]])"
   ]
  },
  {
   "cell_type": "code",
   "execution_count": null,
   "id": "07e6ed7a",
   "metadata": {},
   "outputs": [],
   "source": [
    "# List all files related to Vanuatu\n",
    "client.files.list(asset_ids=[country_to_id['Vanuatu']])"
   ]
  },
  {
   "cell_type": "markdown",
   "id": "894697f8",
   "metadata": {},
   "source": [
    "## 5. Adding events"
   ]
  },
  {
   "cell_type": "code",
   "execution_count": null,
   "id": "ba2b4fbc",
   "metadata": {},
   "outputs": [],
   "source": [
    "# Read event data\n",
    "df = pd.read_csv('../data/events.csv')\n",
    "df.head()"
   ]
  },
  {
   "cell_type": "code",
   "execution_count": null,
   "id": "d4bdfb02",
   "metadata": {},
   "outputs": [],
   "source": [
    "from cognite.client.data_classes import Event\n",
    "\n",
    "\n",
    "store = []\n",
    "# Cycle through each row\n",
    "for _,row in df.iterrows():\n",
    "    \n",
    "    # Unpack the row\n",
    "    _,_,_,Disaster_Type,Disaster_Subtype,_,Country,_,_,_,Location,_,Start_Year,Start_Month,Start_Day,End_Year,End_Month,End_Day = row\n",
    "        \n",
    "    # Create start and end datetimes\n",
    "    start_date = pd.to_datetime(f'{Start_Year}-{Start_Month}-{int(Start_Day)}')\n",
    "    end_date = pd.to_datetime(f'{End_Year}-{End_Month}-{int(End_Day)}')\n",
    "    \n",
    "    # Create metadata\n",
    "    metadata = {'Location':Location}\n",
    "    \n",
    "    # Create the event and store\n",
    "    event = Event(start_time=int(start_date.timestamp()*1000), end_time=int(end_date.timestamp()*1000),metadata=metadata,data_set_id=data_set_id, type=Disaster_Type, subtype=Disaster_Subtype, asset_ids=[country_to_id[Country]])\n",
    "    store.append(event)\n",
    "\n",
    "client.events.create(store)"
   ]
  },
  {
   "cell_type": "code",
   "execution_count": null,
   "id": "5148a7dd",
   "metadata": {},
   "outputs": [],
   "source": [
    "client.events.list(data_set_ids=[data_set_id], type='Volcanic activity')"
   ]
  },
  {
   "cell_type": "markdown",
   "id": "08754702",
   "metadata": {},
   "source": [
    "## 6. Add Labels"
   ]
  },
  {
   "cell_type": "code",
   "execution_count": null,
   "id": "add0cffd",
   "metadata": {},
   "outputs": [],
   "source": [
    "client.labels.list()"
   ]
  },
  {
   "cell_type": "code",
   "execution_count": null,
   "id": "13911873",
   "metadata": {},
   "outputs": [],
   "source": [
    "for country in ['Norway','Canada','Latvia']:\n",
    "\n",
    "    my_update = AssetUpdate(id=country_to_id[country]).labels.set('cold-countries')\n",
    "\n",
    "    client.assets.update(my_update)"
   ]
  },
  {
   "cell_type": "code",
   "execution_count": null,
   "id": "cb130b19",
   "metadata": {},
   "outputs": [],
   "source": [
    "for country in ['Ghana','Qatar','Malaysia']:\n",
    "\n",
    "    my_update = AssetUpdate(id=country_to_id[country]).labels.set('hot-countries')\n",
    "\n",
    "    client.assets.update(my_update)"
   ]
  },
  {
   "cell_type": "code",
   "execution_count": null,
   "id": "ed6d5326",
   "metadata": {},
   "outputs": [],
   "source": [
    "from cognite.client.data_classes import LabelFilter\n",
    "\n",
    "my_filter = LabelFilter(contains_any=['cold-countries'])\n",
    "\n",
    "client.assets.list(labels=my_filter,data_set_ids=[data_set_id])"
   ]
  },
  {
   "cell_type": "markdown",
   "id": "81d716df",
   "metadata": {},
   "source": [
    "## 7. Final Task:  Clean-Up and Delete the Data in your Data Set\n"
   ]
  },
  {
   "cell_type": "code",
   "execution_count": null,
   "id": "36abc60d",
   "metadata": {},
   "outputs": [],
   "source": [
    "# Assets\n",
    "all_assets = [asset.id for asset in client.assets.list(limit=-1, data_set_ids=[data_set_id])]\n",
    "client.assets.delete(all_assets)\n",
    "\n",
    "# Time series\n",
    "all_time_series = [ts.id for ts in client.time_series.list(limit=-1, data_set_ids=[data_set_id])]\n",
    "client.time_series.delete(all_time_series)\n",
    "\n",
    "# Files\n",
    "all_files = [file.id for file in client.files.list(limit=-1, data_set_ids=[data_set_id])]\n",
    "client.files.delete(all_files)\n",
    "\n",
    "# Events\n",
    "all_events = [event.id for event in client.events.list(limit=-1, data_set_ids=[data_set_id])]\n",
    "client.events.delete(all_events)\n",
    "\n",
    "\n",
    "print('Success!')"
   ]
  }
 ],
 "metadata": {
  "kernelspec": {
   "display_name": "Python 3",
   "language": "python",
   "name": "python3"
  },
  "language_info": {
   "codemirror_mode": {
    "name": "ipython",
    "version": 3
   },
   "file_extension": ".py",
   "mimetype": "text/x-python",
   "name": "python",
   "nbconvert_exporter": "python",
   "pygments_lexer": "ipython3",
   "version": "3.9.16"
  },
  "vscode": {
   "interpreter": {
    "hash": "44632770a8e081848b27e822703d69684fcad84b9999757e821a0f496acab079"
   }
  }
 },
 "nbformat": 4,
 "nbformat_minor": 5
}
